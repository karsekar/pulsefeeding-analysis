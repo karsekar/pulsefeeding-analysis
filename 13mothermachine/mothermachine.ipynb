{
 "cells": [
  {
   "cell_type": "markdown",
   "metadata": {},
   "source": [
    "# Mother machine figure showing clpX degradation of FtsZ\n",
    "\n",
    "<a id = \"toc\"></a>\n",
    "## Table of Contents\n",
    "1. [Load data](#loaddata)\n",
    "2. [Fluoresence ensemble plot](#ensemble)\n",
    "\n",
    "### Load modules"
   ]
  },
  {
   "cell_type": "code",
   "execution_count": 1,
   "metadata": {
    "collapsed": false
   },
   "outputs": [
    {
     "name": "stderr",
     "output_type": "stream",
     "text": [
      "//anaconda/lib/python2.7/site-packages/pandas/computation/__init__.py:19: UserWarning: The installed version of numexpr 2.4.4 is not supported in pandas and will be not be used\n",
      "\n",
      "  UserWarning)\n",
      ":0: FutureWarning: IPython widgets are experimental and may change in the future.\n"
     ]
    }
   ],
   "source": [
    "from __future__ import division\n",
    "\n",
    "import numpy as np\n",
    "import pandas as pd\n",
    "pd.options.display.float_format = '{:,.3f}'.format\n",
    "from IPython.display import display, HTML\n",
    "\n",
    "# plotting modules and settings\n",
    "import matplotlib as mpl\n",
    "import matplotlib.pyplot as plt\n",
    "# %matplotlib inline\n",
    "import seaborn as sns\n",
    "sns.set(style='ticks', color_codes=True)\n",
    "sns.set_palette('deep')\n",
    "mpl.rcParams['pdf.fonttype'] = 42\n",
    "mpl.rcParams['ps.fonttype'] = 42\n",
    "mpl.rcParams['font.family'] = 'Myriad Pro'\n",
    "\n",
    "SMALL_SIZE = 8\n",
    "MEDIUM_SIZE = 10\n",
    "BIGGER_SIZE = 14\n",
    "\n",
    "plt.rc('font', size=SMALL_SIZE)          # controls default text sizes\n",
    "plt.rc('axes', titlesize=MEDIUM_SIZE)     # fontsize of the axes title\n",
    "plt.rc('axes', labelsize=MEDIUM_SIZE)    # fontsize of the x and y labels\n",
    "plt.rc('xtick', labelsize=SMALL_SIZE)    # fontsize of the tick labels\n",
    "plt.rc('ytick', labelsize=SMALL_SIZE)    # fontsize of the tick labels\n",
    "plt.rc('legend', fontsize=SMALL_SIZE)    # legend fontsize\n",
    "plt.rc('figure', titlesize=BIGGER_SIZE)  # fontsize of the figure title\n",
    "\n",
    "# set axes and tick width\n",
    "plt.rc('axes', linewidth=0.5)\n",
    "mpl.rcParams['xtick.major.size'] = 2\n",
    "mpl.rcParams['xtick.major.width'] = 0.5\n",
    "mpl.rcParams['xtick.minor.size'] = 2\n",
    "mpl.rcParams['xtick.minor.width'] = 0.5\n",
    "mpl.rcParams['ytick.major.size'] = 2\n",
    "mpl.rcParams['ytick.major.width'] = 0.5\n",
    "mpl.rcParams['ytick.minor.size'] = 2\n",
    "mpl.rcParams['ytick.minor.width'] = 0.5"
   ]
  },
  {
   "cell_type": "markdown",
   "metadata": {},
   "source": [
    "<a id = 'loaddata'></a>\n",
    "# 1. Load data\n",
    "* For each csv, each row corresponds to a single cell lineage (which undergoes growth and division over time). \n",
    "* The first two columes are the field-of-view and channel id, which uniquely identify a lineage.\n",
    "* The third and fourth columes are the absolute time index of the image and the total cellular fluorescence of the cell at that time. \n",
    "* The times are converted to be relative to the shift time using the values below. "
   ]
  },
  {
   "cell_type": "code",
   "execution_count": 2,
   "metadata": {
    "collapsed": false
   },
   "outputs": [
    {
     "name": "stdout",
     "output_type": "stream",
     "text": [
      "There are 154 lineages from clpX plus data\n",
      "There are 144 lineages from clpX minus data\n"
     ]
    }
   ],
   "source": [
    "# load data frames\n",
    "clpXplus_df = pd.read_csv('./clpXplus.csv',sep=';')\n",
    "clpXminus_df = pd.read_csv('./clpXminus.csv',sep=';')\n",
    "    \n",
    "print('There are {} lineages from clpX plus data'.format(len(clpXplus_df)))\n",
    "print('There are {} lineages from clpX minus data'.format(len(clpXminus_df)))\n",
    "\n",
    "# phase picture taking interval in minutes\n",
    "time_int = 2\n",
    "# fluorescent picture taking interval as a function of phase images (every 30 images = 1 hr)\n",
    "fl_int = 30\n",
    "# absolute shift index time \n",
    "clpXplus_shift_t = 63 # ~2 hours after image start\n",
    "clpXminus_shift_t = 125 # ~4 hours after image start\n",
    "# maximum time index\n",
    "cplXplus_maxt = 500 # ~16.5 hours\n",
    "cplXminus_maxt = 580 # ~19.3 hours\n",
    "# normalization factor (average value from 2 hours before shift down)\n",
    "clpXplus_norm = 26835\n",
    "clpXminus_norm = 62009"
   ]
  },
  {
   "cell_type": "markdown",
   "metadata": {
    "collapsed": false
   },
   "source": [
    "<a id='ensemble'></a>\n",
    "# 2. Fluorescence ensemble plot"
   ]
  },
  {
   "cell_type": "code",
   "execution_count": 3,
   "metadata": {
    "collapsed": false
   },
   "outputs": [
    {
     "name": "stderr",
     "output_type": "stream",
     "text": [
      "//anaconda/lib/python2.7/site-packages/matplotlib/backends/backend_pdf.py:1121: UserWarning: 'MyriadPro-Regular.otf' can not be subsetted into a Type 3 font. The entire font will be embedded in the output.\n",
      "  warnings.warn(msg % os.path.basename(filename))\n"
     ]
    }
   ],
   "source": [
    "## Set up plot\n",
    "fig, axes = plt.subplots(ncols=1, nrows=1, figsize=(6, 3), squeeze=False)\n",
    "ax = axes.flat[0]\n",
    "\n",
    "# clpXplus ######################\n",
    "alt_time = clpXplus_shift_t * time_int / 60 # plotting by hours realtive to shift\n",
    "# arrays for holding averge values\n",
    "avg_times = list(np.arange(1, cplXplus_maxt, step=fl_int))\n",
    "fl_by_time = [[] for i in avg_times]\n",
    "\n",
    "for index, row in clpXplus_df.iterrows():\n",
    "    lin_times = row['lineage_times']\n",
    "    # deal with formatting, removing brackets and convert to list of numbers\n",
    "    lin_times = np.array([np.int(t) for t in lin_times[1:-1].split()])\n",
    "    lin_fl = row['fl_totals']\n",
    "    lin_fl = np.array([np.int(t) for t in lin_fl[1:-1].split()])\n",
    "\n",
    "    # comment out to plot absolute values\n",
    "    lin_fl = [x / clpXplus_norm for x in lin_fl]\n",
    "    \n",
    "    # add data to averages lists\n",
    "    for i, t in enumerate(lin_times):\n",
    "        idx = avg_times.index(t)\n",
    "        fl_by_time[idx].append(lin_fl[i])\n",
    "\n",
    "    # convert times and plot\n",
    "    lin_times = lin_times * time_int / 60 - alt_time\n",
    "    \n",
    "    ax.plot(lin_times, lin_fl, lw=0.5, alpha=0.15, color='blue')\n",
    "            \n",
    "# average data\n",
    "avg_fl = [np.mean(fl_values) for fl_values in fl_by_time]\n",
    "# med_fl = [np.median(fl_values) for fl_values in fl_by_time]\n",
    "n_fl = [len(fl_values) for fl_values in fl_by_time]\n",
    "avg_times = np.array(avg_times) * time_int / 60 - alt_time\n",
    "ax.plot(avg_times, avg_fl, color='blue', lw=1, label='clpX+ lineages average')\n",
    "  \n",
    "# clpXminus ######################   \n",
    "alt_time = clpXminus_shift_t * time_int / 60 # plotting by hours realtive to shift\n",
    "avg_times = list(np.arange(1, cplXminus_maxt, step=fl_int))\n",
    "fl_by_time = [[] for i in avg_times]\n",
    "\n",
    "for index, row in clpXminus_df.iterrows():\n",
    "    lin_times = row['lineage_times']\n",
    "    # deal with formatting, removing brackets and convert to list of numbers\n",
    "    lin_times = np.array([np.int(t) for t in lin_times[1:-1].split()])\n",
    "    lin_fl = row['fl_totals']\n",
    "    lin_fl = np.array([np.int(t) for t in lin_fl[1:-1].split()])\n",
    "    \n",
    "    # comment out to plot absolute values\n",
    "    lin_fl = [x / clpXminus_norm for x in lin_fl]\n",
    "    \n",
    "    # add data to averages lists\n",
    "    for i, t in enumerate(lin_times):\n",
    "        idx = avg_times.index(t)\n",
    "        fl_by_time[idx].append(lin_fl[i])\n",
    "\n",
    "    # convert times and plot\n",
    "    lin_times = lin_times * time_int / 60 - alt_time\n",
    "    \n",
    "    ax.plot(lin_times, lin_fl, lw=0.5, ls=':', alpha=0.15, color='green')\n",
    "\n",
    "# average data\n",
    "avg_fl = [np.mean(fl_values) for fl_values in fl_by_time]\n",
    "# med_fl = [np.median(fl_values) for fl_values in fl_by_time]\n",
    "n_fl = [len(fl_values) for fl_values in fl_by_time]\n",
    "avg_times = np.array(avg_times) * time_int / 60 - alt_time\n",
    "ax.plot(avg_times, avg_fl, color='green', lw=1, label='clpX- lineages average')  \n",
    "\n",
    "##### shared plotting and formatting\n",
    "# shift down \n",
    "ax.axvline(0, color='purple', ls='--', lw=0.5, label='shift-down time')\n",
    "\n",
    "# formatting\n",
    "ax.set_xlabel('time relative to shift down [hours]')\n",
    "ax.set_xticks(np.arange(-2,14,2))\n",
    "ax.set_xticklabels([str(x) for x in np.arange(-2,14,2)])\n",
    "ax.set_xlim([-2, 10])\n",
    "\n",
    "ax.set_ylabel('normalized fluorescence [AU]')\n",
    "ax.set_yticks(np.arange(0,2.5,0.5))\n",
    "ax.set_yticklabels([str(x) for x in np.arange(0,2.5,0.5)])\n",
    "ax.set_ylim(bottom=0, top=1.5)\n",
    "\n",
    "ax.legend(loc='upper right')\n",
    "sns.despine()\n",
    "\n",
    "ax.set_title('Total cellular FtsZ-mVenus fluorescence by lineage during shift down')\n",
    "plt.tight_layout()\n",
    "fig.savefig('./mothermachine_figure.pdf', dpi=600)\n",
    "plt.show()"
   ]
  },
  {
   "cell_type": "code",
   "execution_count": null,
   "metadata": {
    "collapsed": true
   },
   "outputs": [],
   "source": []
  }
 ],
 "metadata": {
  "kernelspec": {
   "display_name": "Python 2",
   "language": "python",
   "name": "python2"
  },
  "language_info": {
   "codemirror_mode": {
    "name": "ipython",
    "version": 2
   },
   "file_extension": ".py",
   "mimetype": "text/x-python",
   "name": "python",
   "nbconvert_exporter": "python",
   "pygments_lexer": "ipython2",
   "version": "2.7.13"
  }
 },
 "nbformat": 4,
 "nbformat_minor": 0
}
